{
 "cells": [
  {
   "cell_type": "markdown",
   "metadata": {},
   "source": [
    "## 2. Discrétisation des équations en différences finies\n",
    "\n",
    "On utilise par défaut un repère en z orienté vers le bas. Le zéro correspond au haut de la colonne (top).\n",
    "\n",
    "On résout le problème couplé hydraulique et thermique.\n",
    "équation de la diffusivité\n",
    "$ K \\Delta h = Ss \\dfrac{\\partial h}{\\partial t} $\n",
    "\n",
    "On cherche une solution discrète de l'équation.\n",
    "on note le temps par $n$ (temps varie de 0 à tfinal, avec un pas $\\Delta t$ $t= n * \\Delta t$ ), et l'espace par $i$ ($z = i * \\Delta z$).\n",
    "On cherche à estimer $h_i^n$\n",
    "\n",
    "$\\dfrac{\\partial h}{\\partial t} = \\dfrac{h_i^{n+1}-h_i^{n}}{\\Delta t}$\n",
    "\n",
    "$\\nabla h = \\dfrac{h_{i+1/2}-h_{i-1/2}}{\\Delta z}$\n",
    "\n",
    "$ h = (1-\\alpha) h^{n} + \\alpha h^{n+1} $\n",
    "\n",
    "$ \\nabla h =  \\dfrac{(\\alpha) h_{i+1/2}^{n+1}-(\\alpha)h_{i-1/2}^{n+1}}{\\Delta z} + \\dfrac{(1-\\alpha) h_{i+1/2}^{n}-(1-\\alpha)h_{i-1/2}^{n}}{\\Delta z}$\n",
    "\n",
    "\n",
    "\n",
    "$\\Delta h = \\dfrac{h_{i+1} -2 h_i + h_{i-1}}{\\Delta z^2}$\n",
    "\n",
    "$\\Delta h = \\alpha\\dfrac{h_{i+1}^{n+1} -2 h_i^{n+1} + h_{i-1}^{n+1}}{\\Delta z^2} + (1-\\alpha)\\dfrac{h_{i+1}^{n} -2 h_i^n + h_{i-1}^n}{\\Delta z^2}$\n",
    "\n",
    "$ K \\left [ \\alpha\\dfrac{h_{i+1}^{n+1} -2 h_i^{n+1} + h_{i-1}^{n+1}}{\\Delta z^2} + (1-\\alpha)\\dfrac{h_{i+1}^{n} -2 h_i^n + h_{i-1}^n}{\\Delta z^2} \\right ] = Ss \\dfrac{h_i^{n+1}-h_i^{n}}{\\Delta t} $\n",
    "\n",
    "$ K \\left [ \\alpha\\dfrac{h_{i+1}^{n+1} -2 h_i^{n+1} + h_{i-1}^{n+1}}{\\Delta z^2}\\right ]  -Ss\\dfrac{h_i^{n+1}}{\\Delta t} = -K (1-\\alpha)\\left [\\dfrac{h_{i+1}^{n} -2 h_i^n + h_{i-1}^n}{\\Delta z^2} \\right ] - Ss \\dfrac{h_i^{n}}{\\Delta t} $\n",
    "\n",
    "\n",
    "$ K \\left [ \\alpha\\dfrac{h_{i+1}^{n+1} -2 h_i^{n+1} + h_{i-1}^{n+1}}{\\Delta z^2}\\right ]  -Ss\\dfrac{h_i^{n+1}}{\\Delta t} = -K (1-\\alpha)\\left [\\dfrac{h_{i+1}^{n} -2 h_i^n + h_{i-1}^n}{\\Delta z^2} \\right ] - Ss \\dfrac{h_i^{n}}{\\Delta t} $\n",
    "\n",
    "Regrouper les termes pour identifier les coefficients matriciels\n",
    "\n",
    "Ecrire l'équation aux limites de la colonne (faces)\n",
    "\n",
    "Faire de même avec l'équation de la chaleur. attention au point de calcul de $\\textbf{q}$\n"
   ]
  }
 ],
 "metadata": {
  "kernelspec": {
   "display_name": "Python 2",
   "language": "python",
   "name": "python2"
  },
  "language_info": {
   "codemirror_mode": {
    "name": "ipython",
    "version": 2
   },
   "file_extension": ".py",
   "mimetype": "text/x-python",
   "name": "python",
   "nbconvert_exporter": "python",
   "pygments_lexer": "ipython2",
   "version": "2.7.18"
  }
 },
 "nbformat": 4,
 "nbformat_minor": 2
}