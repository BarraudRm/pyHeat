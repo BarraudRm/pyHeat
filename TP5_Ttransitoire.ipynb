{
 "cells": [
  {
   "cell_type": "markdown",
   "metadata": {},
   "source": [
    "\n",
    "# TP4 étude du fonctionnement du lit de la rivière en régime permanent\n",
    "\n",
    "__4 séances__\n",
    "\n",
    "Voir Stallman65 pour solution transitoire et goto2005, puis peut-être hatch\n",
    "\n",
    "Pour la solution conduc pure voir 2016_book dans biblio transport\n"
   ]
  }
 ],
 "metadata": {
  "kernelspec": {
   "display_name": "Python 3",
   "language": "python",
   "name": "python3"
  },
  "language_info": {
   "codemirror_mode": {
    "name": "ipython",
    "version": 2
   },
   "file_extension": ".py",
   "mimetype": "text/x-python",
   "name": "python",
   "nbconvert_exporter": "python",
   "pygments_lexer": "ipython2",
   "version": "2.7.18"
  }
 },
 "nbformat": 4,
 "nbformat_minor": 5
}