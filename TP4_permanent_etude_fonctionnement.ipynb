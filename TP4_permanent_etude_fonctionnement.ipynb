{
 "cells": [
  {
   "cell_type": "markdown",
   "metadata": {},
   "source": [
    "\n",
    "# TP4 étude du fonctionnement du lit de la rivière en régime permanent\n",
    "\n",
    "__1 séance__\n",
    "\n",
    "Ce TP s'appuie sur le code de calcul développé dans les TP précédents. Il a pour objectif d'étudier les écoulements dans le lit de la rivière suivant :\n",
    "+ différents forçages hydrauliques \n",
    "+ différents forçages thermiques \n",
    "+ différents champs de paramètres (on se servira ici des résultats des TP2 et 3)\n",
    "\n",
    "Au moins deux situations hydrodynamiques et thermiques seront considérées.\n",
    "\n",
    "## 1. écoulement hivernal de la rivière vers la nappe\n",
    "\n",
    "On suppose une pression différentielle de 10 cm entre la rivière et la nappe. \n",
    "\n",
    "La température de l'eau de rivière est de 2$^{\\circ} C$, alors que celle des eaux souterraines de 16$^{\\circ} C$.\n",
    "\n",
    "Faites des hypothèses sur les valeurs de paramètres et résolvez le système d'équations.\n",
    "\n",
    "\n",
    "## 2. écoulement estival de la nappe vers la rivière\n",
    "\n",
    "On suppose une pression différentielle de -8 cm cm entre la rivière et la nappe. \n",
    "\n",
    "La température de l'eau de rivière est de 28$^{\\circ} C$, alors que celle des eaux souterraines de 14$^{\\circ} C$.\n",
    "\n",
    "Faites des hypothèses sur les valeurs de paramètres et résolvez le système d'équations.\n",
    "\n",
    "## 3. Configuration d'intérêt pour vous\n",
    "\n",
    "Réalisez le même travail pour une situation d'intérêt selon vous. Argumentez le pourquoi puis résolvez le problème.\n"
   ]
  }
 ],
 "metadata": {
  "kernelspec": {
   "display_name": "Python 3",
   "language": "python",
   "name": "python3"
  },
  "language_info": {
   "codemirror_mode": {
    "name": "ipython",
    "version": 2
   },
   "file_extension": ".py",
   "mimetype": "text/x-python",
   "name": "python",
   "nbconvert_exporter": "python",
   "pygments_lexer": "ipython2",
   "version": "2.7.18"
  }
 },
 "nbformat": 4,
 "nbformat_minor": 5
}